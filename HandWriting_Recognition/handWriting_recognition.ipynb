{
 "cells": [
  {
   "cell_type": "code",
   "execution_count": 24,
   "id": "psychological-family",
   "metadata": {},
   "outputs": [],
   "source": [
    "import numpy as np\n",
    "import torch\n",
    "import torchvision\n",
    "import matplotlib.pyplot as plt\n",
    "from time import time\n",
    "from torchvision import datasets,transforms\n",
    "from torch import nn, optim"
   ]
  },
  {
   "cell_type": "code",
   "execution_count": 25,
   "id": "respected-night",
   "metadata": {},
   "outputs": [],
   "source": [
    "transform = transforms.Compose([transforms.ToTensor(),\n",
    "                              transforms.Normalize((0.5,), (0.5,)),\n",
    "                              ])"
   ]
  },
  {
   "cell_type": "code",
   "execution_count": 26,
   "id": "driving-mercury",
   "metadata": {},
   "outputs": [],
   "source": [
    "trainset = datasets.MNIST(root=\"dataset_handwritten_train/\", download = True, train = True, transform = transform)\n",
    "testset = datasets.MNIST(root= \"dataset_handwritten_test/\", download = True, train = False, transform = transform)"
   ]
  },
  {
   "cell_type": "code",
   "execution_count": 27,
   "id": "bronze-tsunami",
   "metadata": {},
   "outputs": [],
   "source": [
    "trainloader = torch.utils.data.DataLoader(trainset, batch_size=64, shuffle=True)\n",
    "testloader = torch.utils.data.DataLoader(testset, batch_size=64, shuffle=True)"
   ]
  },
  {
   "cell_type": "code",
   "execution_count": 28,
   "id": "valuable-reform",
   "metadata": {},
   "outputs": [],
   "source": [
    "dataiter = iter(trainloader)#The iter() function creates an object which can be iterated one element at a time.\n",
    "images, labels = dataiter.next()#The next() function returns the next item in an iterator."
   ]
  },
  {
   "cell_type": "code",
   "execution_count": 29,
   "id": "greater-divide",
   "metadata": {},
   "outputs": [
    {
     "name": "stdout",
     "output_type": "stream",
     "text": [
      "torch.Size([64, 1, 28, 28])\n",
      "torch.Size([64])\n"
     ]
    }
   ],
   "source": [
    "print (images.shape)\n",
    "print (labels.shape)"
   ]
  },
  {
   "cell_type": "code",
   "execution_count": 30,
   "id": "raised-removal",
   "metadata": {},
   "outputs": [
    {
     "name": "stdout",
     "output_type": "stream",
     "text": [
      "torch.Size([64, 1, 28, 28])\n",
      "torch.Size([64])\n"
     ]
    }
   ],
   "source": [
    "dataiter = iter(testloader)\n",
    "images, labels = dataiter.next()\n",
    "print(images.shape)\n",
    "print(labels.shape)"
   ]
  },
  {
   "cell_type": "code",
   "execution_count": 32,
   "id": "important-yield",
   "metadata": {},
   "outputs": [
    {
     "data": {
      "text/plain": [
       "<matplotlib.image.AxesImage at 0x7f79b61f78e0>"
      ]
     },
     "execution_count": 32,
     "metadata": {},
     "output_type": "execute_result"
    },
    {
     "data": {
      "image/png": "[encoded data removed]",
      "text/plain": [
       "<Figure size 432x288 with 1 Axes>"
      ]
     },
     "metadata": {
      "needs_background": "light"
     },
     "output_type": "display_data"
    }
   ],
   "source": [
    "# Lets see the sample image\n",
    "plt.imshow(images[2].numpy().squeeze(), cmap = 'gray_r')"
   ]
  },
  {
   "cell_type": "code",
   "execution_count": 33,
   "id": "excellent-portuguese",
   "metadata": {},
   "outputs": [
    {
     "data": {
      "image/png": "[encoded data removed]",
      "text/plain": [
       "<Figure size 432x288 with 60 Axes>"
      ]
     },
     "metadata": {
      "needs_background": "light"
     },
     "output_type": "display_data"
    }
   ],
   "source": [
    "# Lets see some more images\n",
    "figure = plt.figure()\n",
    "num_of_images = 60\n",
    "\n",
    "for i in range (1, num_of_images+1):\n",
    "    plt.subplot(6,10,i)\n",
    "    plt.axis('off')\n",
    "    plt.imshow(images[0].numpy().squeeze(), cmap = 'gray_r')"
   ]
  },
  {
   "cell_type": "code",
   "execution_count": 34,
   "id": "original-prevention",
   "metadata": {},
   "outputs": [
    {
     "name": "stdout",
     "output_type": "stream",
     "text": [
      "Sequential(\n",
      "  (0): Linear(in_features=784, out_features=128, bias=True)\n",
      "  (1): ReLU()\n",
      "  (2): Linear(in_features=128, out_features=64, bias=True)\n",
      "  (3): ReLU()\n",
      "  (4): Linear(in_features=64, out_features=10, bias=True)\n",
      "  (5): LogSoftmax(dim=1)\n",
      ")\n"
     ]
    }
   ],
   "source": [
    "# making a neural network\n",
    "\n",
    "input_size = 784\n",
    "hidden_sizes = [128,64]\n",
    "output_size = 10\n",
    "# Utsab will explain this\n",
    "model = nn.Sequential(nn.Linear(input_size, hidden_sizes[0]),\n",
    "                      nn.ReLU(),\n",
    "                      nn.Linear(hidden_sizes[0], hidden_sizes[1]),\n",
    "                      nn.ReLU(),\n",
    "                      nn.Linear(hidden_sizes[1], output_size),\n",
    "                      nn.LogSoftmax(dim=1))\n",
    "print(model)"
   ]
  },
  {
   "cell_type": "code",
   "execution_count": 35,
   "id": "final-investor",
   "metadata": {},
   "outputs": [],
   "source": [
    "criterion = nn.NLLLoss()\n",
    "images, labels = next(iter(trainloader))\n",
    "images = images.view(images.shape[0], -1)\n",
    "\n",
    "logps = model(images) # log probabilities\n",
    "loss = criterion(logps, labels) # Calculate the NLL loss"
   ]
  },
  {
   "cell_type": "code",
   "execution_count": 36,
   "id": "active-coffee",
   "metadata": {},
   "outputs": [
    {
     "name": "stdout",
     "output_type": "stream",
     "text": [
      "Before backward pass : \n",
      " None\n",
      "After backward pass : \n",
      " tensor([[-0.0036, -0.0036, -0.0036,  ..., -0.0036, -0.0036, -0.0036],\n",
      "        [-0.0002, -0.0002, -0.0002,  ..., -0.0002, -0.0002, -0.0002],\n",
      "        [-0.0036, -0.0036, -0.0036,  ..., -0.0036, -0.0036, -0.0036],\n",
      "        ...,\n",
      "        [ 0.0028,  0.0028,  0.0028,  ...,  0.0028,  0.0028,  0.0028],\n",
      "        [-0.0010, -0.0010, -0.0010,  ..., -0.0010, -0.0010, -0.0010],\n",
      "        [ 0.0006,  0.0006,  0.0006,  ...,  0.0006,  0.0006,  0.0006]])\n"
     ]
    }
   ],
   "source": [
    "print(\"Before backward pass : \\n\", model[0].weight.grad)\n",
    "loss.backward()\n",
    "print(\"After backward pass : \\n\", model[0].weight.grad)"
   ]
  },
  {
   "cell_type": "code",
   "execution_count": 37,
   "id": "gross-disability",
   "metadata": {},
   "outputs": [
    {
     "name": "stdout",
     "output_type": "stream",
     "text": [
      "Epochs0 - Training loss : 0.6244812904517534\n",
      "Epochs1 - Training loss : 0.27364897813751243\n",
      "Epochs2 - Training loss : 0.21066351595130176\n",
      "Epochs3 - Training loss : 0.17159314287393523\n",
      "Epochs4 - Training loss : 0.14313853433780643\n",
      "Epochs5 - Training loss : 0.12355949199681025\n",
      "Epochs6 - Training loss : 0.1072144937236855\n",
      "Epochs7 - Training loss : 0.09425368965236045\n",
      "Epochs8 - Training loss : 0.08506625059442019\n",
      "Epochs9 - Training loss : 0.07651710407987142\n",
      "Epochs10 - Training loss : 0.06949994949224804\n",
      "Epochs11 - Training loss : 0.06430221479664099\n",
      "Epochs12 - Training loss : 0.058566813281467206\n",
      "Epochs13 - Training loss : 0.053841492676460094\n",
      "Epochs14 - Training loss : 0.04968422314952384\n",
      "\n",
      " Training Time (in minutes) = 10.805410408973694\n"
     ]
    }
   ],
   "source": [
    "optimizer = optim.SGD(model.parameters(), lr = 0.003, momentum = 0.9)\n",
    "time0 = time()\n",
    "epochs = 15\n",
    "\n",
    "for e in range(epochs):\n",
    "    running_loss = 0\n",
    "    for images,labels in trainloader:\n",
    "        \n",
    "        #Flatten the MNIST images into a 784 long vector\n",
    "        images = images.view(images.shape[0], -1)\n",
    "        \n",
    "        #Training pass\n",
    "        optimizer.zero_grad()\n",
    "        \n",
    "        output = model(images)\n",
    "        loss = criterion(output, labels)\n",
    "        \n",
    "        # This is where the model learns by backpropogating\n",
    "        loss.backward()\n",
    "        \n",
    "        # And optimizes its weight here\n",
    "        optimizer.step()\n",
    "        \n",
    "        # Running loss later helps to calculate the mean loss of that epoch\n",
    "        running_loss += loss.item()\n",
    "        \n",
    "    else :\n",
    "        print(\"Epochs{} - Training loss : {}\". format(e, running_loss/len(trainloader)))\n",
    "    \n",
    "print(\"\\n Training Time (in minutes) =\", (time()- time0)/60)"
   ]
  },
  {
   "cell_type": "code",
   "execution_count": 33,
   "id": "right-divide",
   "metadata": {},
   "outputs": [
    {
     "name": "stdout",
     "output_type": "stream",
     "text": [
      "0.10211428254842758\n"
     ]
    }
   ],
   "source": [
    "print(loss.item())"
   ]
  },
  {
   "cell_type": "code",
   "execution_count": 11,
   "id": "marked-frederick",
   "metadata": {},
   "outputs": [],
   "source": [
    "\n",
    "def view_classify(img, ps):\n",
    "    ''' Function for viewing an image and it's predicted classes.\n",
    "    '''\n",
    "    ps = ps.data.numpy().squeeze()\n",
    "    \n",
    "    fig, (ax1, ax2) = plt.subplots(figsize=(6,9), ncols=2)\n",
    "    ax1.imshow(img.resize_(1, 28, 28).numpy().squeeze())\n",
    "    ax1.axis('off')\n",
    "    ax2.barh(np.arange(10), ps)\n",
    "    ax2.set_aspect(0.1)\n",
    "    ax2.set_yticks(np.arange(10))\n",
    "    ax2.set_yticklabels(np.arange(10))\n",
    "    ax2.set_title('Class Probability')\n",
    "    ax2.set_xlim(0, 1.1)\n",
    "    plt.tight_layout()"
   ]
  },
  {
   "cell_type": "code",
   "execution_count": 48,
   "id": "aerial-cedar",
   "metadata": {},
   "outputs": [
    {
     "name": "stdout",
     "output_type": "stream",
     "text": [
      "Predicted Digit = 1\n"
     ]
    },
    {
     "data": {
      "image/png": "[encoded data removed]",
      "text/plain": [
       "<Figure size 432x288 with 1 Axes>"
      ]
     },
     "metadata": {
      "needs_background": "light"
     },
     "output_type": "display_data"
    }
   ],
   "source": [
    "images, labels = next(iter(testloader))\n",
    "\n",
    "plt.imshow(images[0].numpy().squeeze(), cmap = 'gray_r')\n",
    "img = images[0].view(1,784)\n",
    "\n",
    "with torch.no_grad():\n",
    "    logps = model(img)\n",
    "\n",
    "ps = torch.exp(logps)\n",
    "probab = list(ps.numpy()[0])\n",
    "print(\"Predicted Digit =\",probab.index(max(probab)))\n",
    "# view_classify (img.view(1,28,28), ps)"
   ]
  },
  {
   "cell_type": "code",
   "execution_count": 52,
   "id": "failing-letter",
   "metadata": {},
   "outputs": [
    {
     "name": "stdout",
     "output_type": "stream",
     "text": [
      "Number of Images tested = 10000\n",
      "\n",
      " Model Accuracy = 97.36\n"
     ]
    }
   ],
   "source": [
    "correct_count, all_count = 0,0\n",
    "for images,labels in testloader:\n",
    "    for i in range(len(labels)):\n",
    "        img = images[i].view(1,784)\n",
    "        with torch.no_grad():\n",
    "            logps = model(img)\n",
    "        \n",
    "        ps = torch.exp(logps)\n",
    "        probab = list(ps.numpy()[0])\n",
    "        pred_label = probab.index(max(probab))\n",
    "        true_label = labels.numpy()[i]\n",
    "        if(true_label == pred_label):\n",
    "            correct_count += 1\n",
    "        all_count += 1\n",
    "        \n",
    "print(\"Number of Images tested =\", all_count)\n",
    "print(\"\\n Model Accuracy =\",(correct_count/all_count * 100))\n"
   ]
  },
  {
   "cell_type": "code",
   "execution_count": 53,
   "id": "accurate-strike",
   "metadata": {},
   "outputs": [],
   "source": [
    "# saving the model\n",
    "torch.save(model, './my_mnist_model.pt')"
   ]
  },
  {
   "cell_type": "code",
   "execution_count": null,
   "id": "described-emission",
   "metadata": {},
   "outputs": [],
   "source": []
  }
 ],
 "metadata": {
  "kernelspec": {
   "display_name": "Python 3",
   "language": "python",
   "name": "python3"
  },
  "language_info": {
   "codemirror_mode": {
    "name": "ipython",
    "version": 3
   },
   "file_extension": ".py",
   "mimetype": "text/x-python",
   "name": "python",
   "nbconvert_exporter": "python",
   "pygments_lexer": "ipython3",
   "version": "3.8.5"
  }
 },
 "nbformat": 4,
 "nbformat_minor": 5
}
