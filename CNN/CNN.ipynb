{
 "cells": [
  {
   "cell_type": "code",
   "execution_count": 25,
   "id": "corresponding-degree",
   "metadata": {},
   "outputs": [],
   "source": [
    "#Imports\n",
    "import torch\n",
    "import torch.nn as nn\n",
    "import torch.optim as optim\n",
    "import torch.nn.functional as F\n",
    "from torch.utils.data import DataLoader\n",
    "import torchvision.datasets as datasets\n",
    "import torchvision.transforms as transforms"
   ]
  },
  {
   "cell_type": "code",
   "execution_count": 27,
   "id": "moderate-somerset",
   "metadata": {},
   "outputs": [],
   "source": [
    "# Create a simple CNN\n",
    "\n",
    "class CNN(nn.Module):\n",
    "    def __init__(self, in_channels = 1, num_classes = 10):\n",
    "        super(CNN,self).__init__()\n",
    "        self.conv1 = nn.Conv2d(in_channels=1,out_channels=8,kernel_size=(3,3),stride=(1,1),padding=(1,1))\n",
    "        self.pool = nn.MaxPool2d(kernel_size=(2,2), stride = (2,2))\n",
    "        self.conv2 = nn.Conv2d(in_channels=8,out_channels=16,kernel_size=(3,3),stride=(1,1),padding=(1,1))\n",
    "        \n",
    "        self.fc1 = nn.Linear(16*7*7, num_classes)\n",
    "    \n",
    "    def forward(self,x):\n",
    "        x = F.relu(self.conv1(x))\n",
    "        x = self.pool(x)\n",
    "        x = F.relu(self.conv2(x))\n",
    "        x = self.pool(x)\n",
    "        x = x.reshape(x.shape[0], -1)\n",
    "        \n",
    "        x = self.fc1(x)\n",
    "    \n",
    "        return x "
   ]
  },
  {
   "cell_type": "code",
   "execution_count": 28,
   "id": "suitable-binding",
   "metadata": {},
   "outputs": [
    {
     "name": "stdout",
     "output_type": "stream",
     "text": [
      "torch.Size([64, 10])\n"
     ]
    }
   ],
   "source": [
    "model = CNN()\n",
    "x = torch.randn(64,1,28,28)\n",
    "print(model(x).shape)"
   ]
  },
  {
   "cell_type": "code",
   "execution_count": 29,
   "id": "radio-dealing",
   "metadata": {},
   "outputs": [],
   "source": [
    "# choosing a device\n",
    "device = torch.device ('cuda' if torch.cuda.is_available() else 'cpu')"
   ]
  },
  {
   "cell_type": "code",
   "execution_count": 31,
   "id": "neutral-party",
   "metadata": {},
   "outputs": [],
   "source": [
    "# Hyperparameters\n",
    "\n",
    "in_channels = 1\n",
    "num_classes = 10\n",
    "learning_rate = 0.001\n",
    "batch_size = 64\n",
    "num_epochs = 5\n"
   ]
  },
  {
   "cell_type": "code",
   "execution_count": 32,
   "id": "commercial-invalid",
   "metadata": {},
   "outputs": [],
   "source": [
    "# Load data\n",
    "train_dataset = datasets.MNIST(root = 'dataset/',train =True,transform=transforms.ToTensor(),download=True)\n",
    "train_loader = DataLoader(dataset = train_dataset,batch_size = batch_size , shuffle =True)\n",
    "test_dataset = datasets.MNIST(root = 'dataset/',train = False ,transform=transforms.ToTensor(),download=True)\n",
    "test_loader = DataLoader(dataset = test_dataset,batch_size = batch_size , shuffle =True)"
   ]
  },
  {
   "cell_type": "code",
   "execution_count": 33,
   "id": "looking-lending",
   "metadata": {},
   "outputs": [],
   "source": [
    "# Initialize the network\n",
    "\n",
    "model = CNN().to(device)"
   ]
  },
  {
   "cell_type": "code",
   "execution_count": 34,
   "id": "associate-framing",
   "metadata": {},
   "outputs": [],
   "source": [
    "# Loss and optimizer\n",
    "criterion = nn.CrossEntropyLoss()\n",
    "optimizer = optim.Adam(model.parameters(), lr = learning_rate)"
   ]
  },
  {
   "cell_type": "code",
   "execution_count": 35,
   "id": "magnetic-patio",
   "metadata": {},
   "outputs": [],
   "source": [
    "# Train Network\n",
    "\n",
    "for epoch in range(num_epochs):\n",
    "    for batch_idx,(data,targets) in enumerate(train_loader):\n",
    "        #Get data to cuda if possible\n",
    "        data = data.to(device = device)\n",
    "        targets = targets.to(device  = device)\n",
    "        \n",
    "        # Get to correct shape\n",
    "#         data = data.reshape(data.shape[0], -1)\n",
    "        \n",
    "        #forward\n",
    "        scores = model(data)\n",
    "        loss = criterion(scores, targets)\n",
    "        \n",
    "        #backward\n",
    "        optimizer.zero_grad()\n",
    "        loss.backward()\n",
    "        \n",
    "        #gradient descent or adam step\n",
    "        optimizer.step()\n",
    "    "
   ]
  },
  {
   "cell_type": "code",
   "execution_count": 36,
   "id": "american-cherry",
   "metadata": {},
   "outputs": [
    {
     "name": "stdout",
     "output_type": "stream",
     "text": [
      "Checking accuracy on training data\n",
      "Got(num_correct) / (num_samples) with accuracy 98.61\n",
      "Checking accuracy on testing data\n",
      "Got(num_correct) / (num_samples) with accuracy 98.34\n"
     ]
    }
   ],
   "source": [
    "# Check the accuracy on trainig and testing to see how good our model works\n",
    "\n",
    "def check_accuracy(loader, model):\n",
    "    if loader.dataset.train:\n",
    "        print(\"Checking accuracy on training data\")\n",
    "    else :\n",
    "        print(\"Checking accuracy on testing data\")\n",
    "        \n",
    "    num_correct = 0\n",
    "    num_samples = 0\n",
    "    model.eval()\n",
    "    \n",
    "    with torch.no_grad():\n",
    "        for x,y in loader:\n",
    "            x = x.to(device = device)\n",
    "            y = y.to(device = device)\n",
    "            \n",
    "#             x = x.reshape(x.shape[0], -1)\n",
    "            \n",
    "            scores = model(x)\n",
    "            _,predictions = scores.max(1)\n",
    "            num_correct += (predictions == y).sum()\n",
    "            num_samples += predictions.size(0)\n",
    "        \n",
    "        print (f'Got(num_correct) / (num_samples) with accuracy {float(num_correct)/float(num_samples)*100:.2f}')\n",
    "        \n",
    "            \n",
    "    model.train()\n",
    "\n",
    "check_accuracy(train_loader, model)\n",
    "check_accuracy(test_loader, model)\n"
   ]
  },
  {
   "cell_type": "code",
   "execution_count": null,
   "id": "agricultural-vanilla",
   "metadata": {},
   "outputs": [],
   "source": []
  }
 ],
 "metadata": {
  "kernelspec": {
   "display_name": "Python 3",
   "language": "python",
   "name": "python3"
  },
  "language_info": {
   "codemirror_mode": {
    "name": "ipython",
    "version": 3
   },
   "file_extension": ".py",
   "mimetype": "text/x-python",
   "name": "python",
   "nbconvert_exporter": "python",
   "pygments_lexer": "ipython3",
   "version": "3.8.5"
  }
 },
 "nbformat": 4,
 "nbformat_minor": 5
}
