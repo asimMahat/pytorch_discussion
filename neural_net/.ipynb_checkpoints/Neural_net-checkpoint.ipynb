{
 "cells": [
  {
   "cell_type": "code",
   "execution_count": 2,
   "id": "legitimate-simon",
   "metadata": {},
   "outputs": [],
   "source": [
    "#Imports\n",
    "import torch\n",
    "import torch.nn as nn\n",
    "import torch.optim as optim\n",
    "import torch.nn.functional as F\n",
    "from torch.utils.data import DataLoader\n",
    "import torchvision.datasets as datasets\n",
    "import torchvision.transforms as transforms"
   ]
  },
  {
   "cell_type": "code",
   "execution_count": 13,
   "id": "assured-routine",
   "metadata": {},
   "outputs": [],
   "source": [
    "# Create a fully connected neural network\n",
    "class NN(nn.Module):\n",
    "    def __init__(self,input_size, num_classes):\n",
    "        super(NN,self).__init__()\n",
    "        self.fc1 = nn.Linear(input_size,50)\n",
    "        self.fc2 = nn.Linear(50, num_classes)\n",
    "        \n",
    "    def forward(self,x):\n",
    "        x = F.relu(self.fc1(x))\n",
    "        x = self.fc2(x)\n",
    "        return x              "
   ]
  },
  {
   "cell_type": "code",
   "execution_count": 14,
   "id": "turned-nickel",
   "metadata": {},
   "outputs": [],
   "source": [
    "# choosing a device\n",
    "device = torch.device ('cuda' if torch.cuda.is_available() else 'cpu')"
   ]
  },
  {
   "cell_type": "code",
   "execution_count": 15,
   "id": "lucky-syracuse",
   "metadata": {},
   "outputs": [],
   "source": [
    "# Hyperparameters\n",
    "\n",
    "input_size = 784\n",
    "num_classes = 10\n",
    "learning_rate = 0.001\n",
    "batch_size = 64\n",
    "num_epochs = 1\n"
   ]
  },
  {
   "cell_type": "code",
   "execution_count": 16,
   "id": "advance-lobby",
   "metadata": {},
   "outputs": [],
   "source": [
    "# Load data\n",
    "train_dataset = datasets.MNIST(root = 'dataset/',train =True,transform=transforms.ToTensor(),download=True)\n",
    "train_loader = DataLoader(dataset = train_dataset,batch_size = batch_size , shuffle =True)\n",
    "test_dataset = datasets.MNIST(root = 'dataset/',train = False ,transform=transforms.ToTensor(),download=True)\n",
    "test_loader = DataLoader(dataset = test_dataset,batch_size = batch_size , shuffle =True)"
   ]
  },
  {
   "cell_type": "code",
   "execution_count": 17,
   "id": "processed-latest",
   "metadata": {},
   "outputs": [],
   "source": [
    "# Initialize the network\n",
    "\n",
    "model = NN(input_size = input_size,num_classes = num_classes).to(device)"
   ]
  },
  {
   "cell_type": "code",
   "execution_count": 19,
   "id": "silent-grass",
   "metadata": {},
   "outputs": [],
   "source": [
    "# Loss and optimizer\n",
    "criterion = nn.CrossEntropyLoss()\n",
    "optimizer = optim.Adam(model.parameters(), lr = learning_rate)"
   ]
  },
  {
   "cell_type": "code",
   "execution_count": 24,
   "id": "convertible-stevens",
   "metadata": {},
   "outputs": [],
   "source": [
    "# Train Network\n",
    "\n",
    "for epoch in range(num_epochs):\n",
    "    for batch_idx,(data,targets) in enumerate(train_loader):\n",
    "        #Get data to cuda if possible\n",
    "        data = data.to(device = device)\n",
    "        targets = targets.to(device  = device)\n",
    "        \n",
    "        # Get to correct shape\n",
    "        data = data.reshape(data.shape[0], -1)\n",
    "        \n",
    "        #forward\n",
    "        scores = model(data)\n",
    "        loss = criterion(scores, targets )\n",
    "        \n",
    "        #backward\n",
    "        optimizer.zero_grad()\n",
    "        loss.backward()\n",
    "        \n",
    "        #gradient descent or adam step\n",
    "        optimizer.step()\n",
    "    "
   ]
  },
  {
   "cell_type": "code",
   "execution_count": 28,
   "id": "established-thesaurus",
   "metadata": {},
   "outputs": [
    {
     "name": "stdout",
     "output_type": "stream",
     "text": [
      "Checking accuracy on training data\n",
      "Got(num_correct) / (num_samples) with accuracy 93.32\n",
      "Checking accuracy on testing data\n",
      "Got(num_correct) / (num_samples) with accuracy 93.50\n"
     ]
    }
   ],
   "source": [
    "# Check the accuracy on trainig and testing to see how good our model works\n",
    "\n",
    "def check_accuracy(loader, model):\n",
    "    if loader.dataset.train:\n",
    "        print(\"Checking accuracy on training data\")\n",
    "    else :\n",
    "        print(\"Checking accuracy on testing data\")\n",
    "        \n",
    "    num_correct = 0\n",
    "    num_samples = 0\n",
    "    model.eval()\n",
    "    \n",
    "    with torch.no_grad():\n",
    "        for x,y in loader:\n",
    "            x = x.to(device = device)\n",
    "            y = y.to(device = device)\n",
    "            \n",
    "            x = x.reshape(x.shape[0], -1)\n",
    "            \n",
    "            scores = model(x)\n",
    "            _,predictions = scores.max(1)\n",
    "            num_correct += (predictions == y).sum()\n",
    "            num_samples += predictions.size(0)\n",
    "        \n",
    "        print (f'Got(num_correct) / (num_samples) with accuracy {float(num_correct)/float(num_samples)*100:.2f}')\n",
    "        \n",
    "            \n",
    "    model.train()\n",
    "\n",
    "check_accuracy(train_loader, model)\n",
    "check_accuracy(test_loader, model)\n"
   ]
  },
  {
   "cell_type": "code",
   "execution_count": null,
   "id": "crucial-affect",
   "metadata": {},
   "outputs": [],
   "source": []
  }
 ],
 "metadata": {
  "kernelspec": {
   "display_name": "Python 3",
   "language": "python",
   "name": "python3"
  },
  "language_info": {
   "codemirror_mode": {
    "name": "ipython",
    "version": 3
   },
   "file_extension": ".py",
   "mimetype": "text/x-python",
   "name": "python",
   "nbconvert_exporter": "python",
   "pygments_lexer": "ipython3",
   "version": "3.8.5"
  }
 },
 "nbformat": 4,
 "nbformat_minor": 5
}
