{
 "cells": [
  {
   "cell_type": "code",
   "execution_count": 13,
   "id": "secure-encounter",
   "metadata": {},
   "outputs": [],
   "source": [
    "import torch\n",
    "from sklearn.datasets import make_classification"
   ]
  },
  {
   "cell_type": "code",
   "execution_count": 49,
   "id": "minor-sucking",
   "metadata": {},
   "outputs": [],
   "source": [
    "class customDataset:\n",
    "    \n",
    "    def __init__(self,data,targets):\n",
    "        self.data = data\n",
    "        self.targets = targets\n",
    "        \n",
    "\n",
    "    def __len__(self):\n",
    "        return len(self.data)\n",
    "    \n",
    "    def __getitem__(self,idx):\n",
    "        current_sample = self.data[idx,:] \n",
    "        current_target = self.targets[idx]\n",
    "        \n",
    "        return{\n",
    "            \"sample\" : torch.tensor(current_sample, dtype = torch.float),\n",
    "            \"target\" : torch.tensor(current_target, dtype= torch.long)\n",
    "        }"
   ]
  },
  {
   "cell_type": "code",
   "execution_count": 50,
   "id": "traditional-capital",
   "metadata": {},
   "outputs": [],
   "source": [
    "data, targets = make_classification(n_samples=1000)"
   ]
  },
  {
   "cell_type": "code",
   "execution_count": 51,
   "id": "sound-preserve",
   "metadata": {},
   "outputs": [
    {
     "data": {
      "text/plain": [
       "array([[ 0.62140796,  2.85483059, -0.30933976, ..., -0.89045162,\n",
       "         0.88841755,  0.5463843 ],\n",
       "       [-0.22241485, -0.324149  ,  0.04607845, ..., -0.42110309,\n",
       "        -0.8646779 , -1.35609073],\n",
       "       [ 0.26306832, -0.91546769,  0.0619068 , ...,  1.83036063,\n",
       "        -0.29484674,  0.0789727 ],\n",
       "       ...,\n",
       "       [-0.08720364, -0.6557302 , -0.04302415, ..., -0.86428607,\n",
       "        -0.09040066, -1.79371407],\n",
       "       [-0.94413952,  0.53763432,  0.42878299, ...,  0.88121686,\n",
       "        -0.49650802,  0.12919454],\n",
       "       [ 1.02389965,  1.28697265, -0.40683748, ..., -0.2899187 ,\n",
       "        -2.11897628,  0.68882082]])"
      ]
     },
     "execution_count": 51,
     "metadata": {},
     "output_type": "execute_result"
    }
   ],
   "source": [
    "data"
   ]
  },
  {
   "cell_type": "code",
   "execution_count": 52,
   "id": "impressive-collapse",
   "metadata": {},
   "outputs": [
    {
     "data": {
      "text/plain": [
       "(1000, 20)"
      ]
     },
     "execution_count": 52,
     "metadata": {},
     "output_type": "execute_result"
    }
   ],
   "source": [
    "data.shape"
   ]
  },
  {
   "cell_type": "code",
   "execution_count": 53,
   "id": "thousand-referral",
   "metadata": {},
   "outputs": [
    {
     "data": {
      "text/plain": [
       "(1000,)"
      ]
     },
     "execution_count": 53,
     "metadata": {},
     "output_type": "execute_result"
    }
   ],
   "source": [
    "targets.shape"
   ]
  },
  {
   "cell_type": "code",
   "execution_count": 54,
   "id": "executed-garden",
   "metadata": {},
   "outputs": [],
   "source": [
    "custom_datasets = customDataset(data=data, targets =targets)"
   ]
  },
  {
   "cell_type": "code",
   "execution_count": 55,
   "id": "hearing-texas",
   "metadata": {},
   "outputs": [
    {
     "data": {
      "text/plain": [
       "1000"
      ]
     },
     "execution_count": 55,
     "metadata": {},
     "output_type": "execute_result"
    }
   ],
   "source": [
    "len(custom_datasets)"
   ]
  },
  {
   "cell_type": "code",
   "execution_count": 56,
   "id": "abstract-pregnancy",
   "metadata": {},
   "outputs": [
    {
     "ename": "TypeError",
     "evalue": "tensor(): argument 'dtype' must be torch.dtype, not str",
     "output_type": "error",
     "traceback": [
      "\u001b[0;31m---------------------------------------------------------------------------\u001b[0m",
      "\u001b[0;31mTypeError\u001b[0m                                 Traceback (most recent call last)",
      "\u001b[0;32m<ipython-input-56-d21c40ae474d>\u001b[0m in \u001b[0;36m<module>\u001b[0;34m\u001b[0m\n\u001b[0;32m----> 1\u001b[0;31m \u001b[0mcustom_datasets\u001b[0m\u001b[0;34m[\u001b[0m\u001b[0;36m0\u001b[0m\u001b[0;34m]\u001b[0m\u001b[0;34m\u001b[0m\u001b[0;34m\u001b[0m\u001b[0m\n\u001b[0m",
      "\u001b[0;32m<ipython-input-49-bbfdf8af3bff>\u001b[0m in \u001b[0;36m__getitem__\u001b[0;34m(self, idx)\u001b[0m\n\u001b[1;32m     14\u001b[0m \u001b[0;34m\u001b[0m\u001b[0m\n\u001b[1;32m     15\u001b[0m         return{\n\u001b[0;32m---> 16\u001b[0;31m             \u001b[0;34m\"sample\"\u001b[0m \u001b[0;34m:\u001b[0m \u001b[0mtorch\u001b[0m\u001b[0;34m.\u001b[0m\u001b[0mtensor\u001b[0m\u001b[0;34m(\u001b[0m\u001b[0mcurrent_sample\u001b[0m\u001b[0;34m,\u001b[0m \u001b[0mdtype\u001b[0m \u001b[0;34m=\u001b[0m \u001b[0;34m\"float\"\u001b[0m\u001b[0;34m)\u001b[0m\u001b[0;34m,\u001b[0m\u001b[0;34m\u001b[0m\u001b[0;34m\u001b[0m\u001b[0m\n\u001b[0m\u001b[1;32m     17\u001b[0m             \u001b[0;34m\"target\"\u001b[0m \u001b[0;34m:\u001b[0m \u001b[0mtorch\u001b[0m\u001b[0;34m.\u001b[0m\u001b[0mtensor\u001b[0m\u001b[0;34m(\u001b[0m\u001b[0mcurrent_target\u001b[0m\u001b[0;34m,\u001b[0m \u001b[0mdtype\u001b[0m\u001b[0;34m=\u001b[0m \u001b[0;34m\"long\"\u001b[0m\u001b[0;34m)\u001b[0m\u001b[0;34m\u001b[0m\u001b[0;34m\u001b[0m\u001b[0m\n\u001b[1;32m     18\u001b[0m         }\n",
      "\u001b[0;31mTypeError\u001b[0m: tensor(): argument 'dtype' must be torch.dtype, not str"
     ]
    }
   ],
   "source": [
    "custom_datasets[0]"
   ]
  },
  {
   "cell_type": "code",
   "execution_count": 48,
   "id": "micro-responsibility",
   "metadata": {},
   "outputs": [
    {
     "name": "stdout",
     "output_type": "stream",
     "text": [
      "{'sample': tensor([ 0.5323,  0.2434, -1.0012, -0.5483, -0.0314,  1.1777,  0.6604, -0.1220,\n",
      "        -1.2895,  0.4887, -0.2696,  0.8584,  0.2015,  1.1719,  1.2856, -0.9378,\n",
      "         0.5743,  1.1815, -0.4977, -0.0936], dtype=torch.float64), 'target': tensor(1)}\n"
     ]
    }
   ],
   "source": [
    "for idx in range(len(custom_datasets)):\n",
    "    print(custom_datasets[idx])\n",
    "    break\n",
    "\n",
    "    "
   ]
  },
  {
   "cell_type": "code",
   "execution_count": null,
   "id": "every-dancing",
   "metadata": {},
   "outputs": [],
   "source": []
  }
 ],
 "metadata": {
  "kernelspec": {
   "display_name": "Python 3",
   "language": "python",
   "name": "python3"
  },
  "language_info": {
   "codemirror_mode": {
    "name": "ipython",
    "version": 3
   },
   "file_extension": ".py",
   "mimetype": "text/x-python",
   "name": "python",
   "nbconvert_exporter": "python",
   "pygments_lexer": "ipython3",
   "version": "3.8.5"
  }
 },
 "nbformat": 4,
 "nbformat_minor": 5
}
