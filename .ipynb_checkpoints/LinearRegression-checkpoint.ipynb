{
 "cells": [
  {
   "cell_type": "code",
   "execution_count": 1,
   "id": "material-accommodation",
   "metadata": {},
   "outputs": [],
   "source": [
    "import torch\n",
    "from sklearn.model_selection import train_test_split\n",
    "from sklearn.datasets import make_classification\n",
    "from sklearn import metrics"
   ]
  },
  {
   "cell_type": "code",
   "execution_count": 13,
   "id": "endangered-orchestra",
   "metadata": {},
   "outputs": [],
   "source": [
    "class CustomDataset:\n",
    "    def __init__(self,data,targets):\n",
    "        self.data = data\n",
    "        self.targets = targets\n",
    "    \n",
    "    def __len__(self):\n",
    "        return self.data.shape[0]\n",
    "    \n",
    "    def __getitem__(self,idx):\n",
    "        current_sample = self.data[idx]\n",
    "        current_target = self.targets[idx]\n",
    "        \n",
    "        return{\n",
    "            \"x\": torch.tensor(current_sample),\n",
    "            \"y\": torch.tensor(current_target)\n",
    "        }    "
   ]
  },
  {
   "cell_type": "code",
   "execution_count": 14,
   "id": "direct-auckland",
   "metadata": {},
   "outputs": [],
   "source": [
    "data, targets = make_classification(n_samples=1000)"
   ]
  },
  {
   "cell_type": "code",
   "execution_count": 15,
   "id": "following-berry",
   "metadata": {},
   "outputs": [],
   "source": [
    "train_data,test_data, train_targets,test_targets = train_test_split(\n",
    "   data,\n",
    "   targets,\n",
    "   stratify = targets\n",
    ")"
   ]
  },
  {
   "cell_type": "code",
   "execution_count": 16,
   "id": "amateur-detector",
   "metadata": {},
   "outputs": [],
   "source": [
    "#making dataset object to load the training and testing data into memory \n",
    "\n",
    "training_dataset = CustomDataset(train_data, train_targets)\n",
    "testing_dataset = CustomDataset(test_data, test_targets)"
   ]
  },
  {
   "cell_type": "code",
   "execution_count": 17,
   "id": "eleven-factory",
   "metadata": {},
   "outputs": [],
   "source": [
    "#making dataloader object to serve the dataset in batches\n",
    "\n",
    "train_loader = torch.utils.data.DataLoader(training_dataset,\n",
    "                                           batch_size = 4, num_workers = 2)\n",
    "\n",
    "test_loader = torch.utils.data.DataLoader(testing_dataset, \n",
    "                                          batch_size = 4, num_workers = 2)"
   ]
  },
  {
   "cell_type": "code",
   "execution_count": 18,
   "id": "aging-grass",
   "metadata": {},
   "outputs": [],
   "source": [
    "model = lambda x,W,b : torch.matmul(x,W) + b"
   ]
  },
  {
   "cell_type": "code",
   "execution_count": 19,
   "id": "velvet-generation",
   "metadata": {},
   "outputs": [
    {
     "data": {
      "text/plain": [
       "tensor([[ 0.2009],\n",
       "        [-0.8478],\n",
       "        [-0.6741],\n",
       "        [ 0.2303],\n",
       "        [-1.3980],\n",
       "        [-0.2925],\n",
       "        [-0.2417],\n",
       "        [ 0.2103],\n",
       "        [-1.5155],\n",
       "        [ 1.7513],\n",
       "        [ 1.0913],\n",
       "        [ 1.3428],\n",
       "        [ 0.0895],\n",
       "        [-0.3812],\n",
       "        [ 1.2632],\n",
       "        [-0.7757],\n",
       "        [ 1.2971],\n",
       "        [ 0.5324],\n",
       "        [-0.4847],\n",
       "        [ 0.2335]], requires_grad=True)"
      ]
     },
     "execution_count": 19,
     "metadata": {},
     "output_type": "execute_result"
    }
   ],
   "source": [
    "W = torch.randn(20,1,requires_grad = True) # Adding weight\n",
    "b = torch.randn(1,requires_grad =True) # Adding biases\n",
    "W"
   ]
  },
  {
   "cell_type": "code",
   "execution_count": 20,
   "id": "surgical-satellite",
   "metadata": {},
   "outputs": [
    {
     "data": {
      "text/plain": [
       "tensor([1.7132], requires_grad=True)"
      ]
     },
     "execution_count": 20,
     "metadata": {},
     "output_type": "execute_result"
    }
   ],
   "source": [
    "b"
   ]
  },
  {
   "cell_type": "code",
   "execution_count": 21,
   "id": "martial-hamilton",
   "metadata": {},
   "outputs": [
    {
     "name": "stdout",
     "output_type": "stream",
     "text": [
      "torch.Size([4, 20])\n",
      "torch.Size([4])\n"
     ]
    }
   ],
   "source": [
    "for data in train_loader :\n",
    "    xtrain = data[\"x\"]\n",
    "    print (xtrain.shape)\n",
    "    ytrain = data[\"y\"]\n",
    "    print (ytrain.shape)\n",
    "    break"
   ]
  },
  {
   "cell_type": "code",
   "execution_count": 22,
   "id": "sitting-ideal",
   "metadata": {},
   "outputs": [
    {
     "name": "stdout",
     "output_type": "stream",
     "text": [
      "torch.Size([4, 20])\n",
      "torch.Size([4])\n"
     ]
    }
   ],
   "source": [
    "for test_data in test_loader :\n",
    "    xtest = test_data[\"x\"]\n",
    "    print (xtrain.shape)\n",
    "    ytest = test_data[\"y\"]\n",
    "    print (ytrain.shape)\n",
    "    break"
   ]
  },
  {
   "cell_type": "code",
   "execution_count": 32,
   "id": "straight-attitude",
   "metadata": {},
   "outputs": [
    {
     "name": "stdout",
     "output_type": "stream",
     "text": [
      "None\n",
      "None\n",
      "0 0.028258806094527245\n",
      "None\n",
      "None\n",
      "1 0.027236158028244972\n",
      "None\n",
      "None\n",
      "2 0.02625134028494358\n",
      "None\n",
      "None\n",
      "3 0.025302954018115997\n",
      "None\n",
      "None\n",
      "4 0.02438979223370552\n",
      "None\n",
      "None\n",
      "5 0.023510396480560303\n",
      "None\n",
      "None\n",
      "6 0.022663483396172523\n",
      "None\n",
      "None\n",
      "7 0.021847937256097794\n",
      "None\n",
      "None\n",
      "8 0.021062541753053665\n",
      "None\n",
      "None\n",
      "9 0.02030617743730545\n"
     ]
    }
   ],
   "source": [
    "learning_rate = 0.001\n",
    "\n",
    "for epoch in range(10):\n",
    "    epoch_loss = 0\n",
    "    counter = 0\n",
    "    for data in train_loader :\n",
    "#         print (data[\"x\"])\n",
    "        xtrain = data[\"x\"]\n",
    "        ytrain = data[\"y\"]\n",
    "        \n",
    "        output = model(xtrain.float(),W,b)\n",
    "        loss = torch.mean((ytrain.view(-1) - output.view(-1))**2)\n",
    "        epoch_loss = epoch_loss + loss.item()\n",
    "#         print(W.grad)\n",
    "#         print(b.grad)\n",
    "        loss.backward()\n",
    "        print(W.grad)\n",
    "        print(b.grad)\n",
    "        #update weight and biases\n",
    "        with torch.no_grad():\n",
    "            W = W - learning_rate * W.grad\n",
    "            b = b - learning_rate * b.grad\n",
    "            \n",
    "        W.requires_grad_(True)\n",
    "        b.requires_grad_(True)\n",
    "        counter += 1\n",
    "        \n",
    "        print(epoch,epoch_loss/counter)\n",
    "        break"
   ]
  },
  {
   "cell_type": "code",
   "execution_count": 29,
   "id": "younger-courage",
   "metadata": {},
   "outputs": [],
   "source": [
    "outputs = []\n",
    "labels = []\n",
    "\n",
    "with torch.no_grad():\n",
    "    for data in test_loader:\n",
    "        xtest = data[\"x\"]\n",
    "        ytest = data[\"y\"]\n",
    "        \n",
    "        output = model(xtest.float(), W,b)\n",
    "        labels.append(ytest)\n",
    "        outputs.append(output)\n",
    "        "
   ]
  },
  {
   "cell_type": "code",
   "execution_count": 30,
   "id": "placed-territory",
   "metadata": {},
   "outputs": [
    {
     "data": {
      "text/plain": [
       "0.964032"
      ]
     },
     "execution_count": 30,
     "metadata": {},
     "output_type": "execute_result"
    }
   ],
   "source": [
    "metrics.roc_auc_score(torch.cat(labels).view(-1),torch.cat(outputs).view(-1))"
   ]
  },
  {
   "cell_type": "code",
   "execution_count": null,
   "id": "pleasant-algeria",
   "metadata": {},
   "outputs": [],
   "source": []
  }
 ],
 "metadata": {
  "kernelspec": {
   "display_name": "Python 3",
   "language": "python",
   "name": "python3"
  },
  "language_info": {
   "codemirror_mode": {
    "name": "ipython",
    "version": 3
   },
   "file_extension": ".py",
   "mimetype": "text/x-python",
   "name": "python",
   "nbconvert_exporter": "python",
   "pygments_lexer": "ipython3",
   "version": "3.8.5"
  }
 },
 "nbformat": 4,
 "nbformat_minor": 5
}
