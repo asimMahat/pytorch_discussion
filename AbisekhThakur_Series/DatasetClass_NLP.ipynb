{
 "cells": [
  {
   "cell_type": "code",
   "execution_count": null,
   "id": "fundamental-partnership",
   "metadata": {},
   "outputs": [],
   "source": [
    "import torch"
   ]
  },
  {
   "cell_type": "code",
   "execution_count": null,
   "id": "cognitive-cheese",
   "metadata": {},
   "outputs": [],
   "source": [
    "#classification/regression task\n",
    "\n",
    "class Dataset:\n",
    "    def __init__(self, data, targets,tokenizer):\n",
    "        self.data = data\n",
    "        self.targets = targets\n",
    "        self.tokenizer = tokenizer\n",
    "    \n",
    "    def __len__(self):\n",
    "        return len(self.data)\n",
    "    \n",
    "    def __get__item(self, idx):\n",
    "        text=self.data[idx]\n",
    "        target = self.target[idx]\n",
    "        input_ids = tokenizer(text)\n",
    "        \n",
    "        return{\n",
    "            \"text\" : torch.tensor(input_ids, dtype = torch.long),\n",
    "            \"attention_mask\" : torch.tensor(attention_mask, dtype = torch.long)\n",
    "            \"target\" : torch.tensor(target, dtype = torch.long)\n",
    "            \n",
    "        }        "
   ]
  }
 ],
 "metadata": {
  "kernelspec": {
   "display_name": "Python 3",
   "language": "python",
   "name": "python3"
  },
  "language_info": {
   "codemirror_mode": {
    "name": "ipython",
    "version": 3
   },
   "file_extension": ".py",
   "mimetype": "text/x-python",
   "name": "python",
   "nbconvert_exporter": "python",
   "pygments_lexer": "ipython3",
   "version": "3.8.5"
  }
 },
 "nbformat": 4,
 "nbformat_minor": 5
}
