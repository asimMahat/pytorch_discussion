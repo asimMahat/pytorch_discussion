{
 "cells": [
  {
   "cell_type": "code",
   "execution_count": 1,
   "id": "absent-shoulder",
   "metadata": {},
   "outputs": [],
   "source": [
    "import torch"
   ]
  },
  {
   "cell_type": "code",
   "execution_count": 2,
   "id": "waiting-bearing",
   "metadata": {},
   "outputs": [],
   "source": [
    "# x = torch.tensor([1])\n",
    "# x"
   ]
  },
  {
   "cell_type": "code",
   "execution_count": 3,
   "id": "flush-given",
   "metadata": {},
   "outputs": [],
   "source": [
    "a = torch.tensor([5.], requires_grad = True)\n",
    "b = torch.tensor([6.], requires_grad = True)"
   ]
  },
  {
   "cell_type": "code",
   "execution_count": 4,
   "id": "convertible-bahrain",
   "metadata": {},
   "outputs": [
    {
     "name": "stdout",
     "output_type": "stream",
     "text": [
      "tensor([5.], requires_grad=True)\n"
     ]
    }
   ],
   "source": [
    "print(a)"
   ]
  },
  {
   "cell_type": "code",
   "execution_count": 5,
   "id": "built-valuable",
   "metadata": {},
   "outputs": [
    {
     "name": "stdout",
     "output_type": "stream",
     "text": [
      "tensor([6.], requires_grad=True)\n"
     ]
    }
   ],
   "source": [
    "print(b)"
   ]
  },
  {
   "cell_type": "code",
   "execution_count": 6,
   "id": "thousand-casino",
   "metadata": {},
   "outputs": [],
   "source": [
    "y = a**3 - b**2"
   ]
  },
  {
   "cell_type": "code",
   "execution_count": 8,
   "id": "leading-interim",
   "metadata": {},
   "outputs": [
    {
     "data": {
      "text/plain": [
       "tensor([89.], grad_fn=<SubBackward0>)"
      ]
     },
     "execution_count": 8,
     "metadata": {},
     "output_type": "execute_result"
    }
   ],
   "source": [
    "y"
   ]
  },
  {
   "cell_type": "code",
   "execution_count": 9,
   "id": "million-surprise",
   "metadata": {},
   "outputs": [
    {
     "name": "stdout",
     "output_type": "stream",
     "text": [
      "None\n"
     ]
    }
   ],
   "source": [
    "print(a.grad)"
   ]
  },
  {
   "cell_type": "code",
   "execution_count": 10,
   "id": "completed-repair",
   "metadata": {},
   "outputs": [
    {
     "name": "stdout",
     "output_type": "stream",
     "text": [
      "None\n"
     ]
    }
   ],
   "source": [
    "print(b.grad)"
   ]
  },
  {
   "cell_type": "code",
   "execution_count": 11,
   "id": "extreme-window",
   "metadata": {},
   "outputs": [],
   "source": [
    "y.backward()"
   ]
  },
  {
   "cell_type": "code",
   "execution_count": 12,
   "id": "signed-niagara",
   "metadata": {},
   "outputs": [
    {
     "data": {
      "text/plain": [
       "tensor([75.])"
      ]
     },
     "execution_count": 12,
     "metadata": {},
     "output_type": "execute_result"
    }
   ],
   "source": [
    "a.grad\n",
    "# dy/da = 3a**2 = 75 "
   ]
  },
  {
   "cell_type": "code",
   "execution_count": 13,
   "id": "transparent-hundred",
   "metadata": {},
   "outputs": [
    {
     "data": {
      "text/plain": [
       "tensor([-12.])"
      ]
     },
     "execution_count": 13,
     "metadata": {},
     "output_type": "execute_result"
    }
   ],
   "source": [
    "b.grad\n",
    "#dy/db = -2b = -12"
   ]
  },
  {
   "cell_type": "code",
   "execution_count": 34,
   "id": "circular-nebraska",
   "metadata": {},
   "outputs": [],
   "source": [
    "B = torch.randn(10,1, requires_grad = True)\n",
    "# C = torch.randn(1, requires_grad = True)"
   ]
  },
  {
   "cell_type": "code",
   "execution_count": 35,
   "id": "federal-titanium",
   "metadata": {},
   "outputs": [
    {
     "name": "stdout",
     "output_type": "stream",
     "text": [
      "tensor([[-1.1587],\n",
      "        [-1.2730],\n",
      "        [ 0.3565],\n",
      "        [-0.6052],\n",
      "        [-2.2560],\n",
      "        [-0.2498],\n",
      "        [ 0.2163],\n",
      "        [-1.3369],\n",
      "        [ 0.1675],\n",
      "        [-0.3335]], requires_grad=True)\n"
     ]
    }
   ],
   "source": [
    "print (B)"
   ]
  },
  {
   "cell_type": "code",
   "execution_count": 36,
   "id": "proved-daisy",
   "metadata": {},
   "outputs": [
    {
     "data": {
      "text/plain": [
       "tensor([[0.4579, 0.1775, 0.8125, 0.6393, 0.3102, 0.4309, 0.0282, 0.6939, 0.8724,\n",
       "         0.0959]], requires_grad=True)"
      ]
     },
     "execution_count": 36,
     "metadata": {},
     "output_type": "execute_result"
    }
   ],
   "source": [
    "x = torch.rand(1,10, requires_grad = True)\n",
    "x"
   ]
  },
  {
   "cell_type": "code",
   "execution_count": 37,
   "id": "operational-mexican",
   "metadata": {},
   "outputs": [
    {
     "data": {
      "text/plain": [
       "tensor([[3.5313]], grad_fn=<AddBackward0>)"
      ]
     },
     "execution_count": 37,
     "metadata": {},
     "output_type": "execute_result"
    }
   ],
   "source": [
    "# for linear regression\n",
    "output = torch.matmul(x,B) + b\n",
    "output"
   ]
  },
  {
   "cell_type": "code",
   "execution_count": 38,
   "id": "minus-insider",
   "metadata": {},
   "outputs": [
    {
     "data": {
      "text/plain": [
       "tensor([[-2.5313]], grad_fn=<RsubBackward1>)"
      ]
     },
     "execution_count": 38,
     "metadata": {},
     "output_type": "execute_result"
    }
   ],
   "source": [
    "loss = 1 - output\n",
    "loss"
   ]
  },
  {
   "cell_type": "code",
   "execution_count": 39,
   "id": "least-thanksgiving",
   "metadata": {},
   "outputs": [],
   "source": [
    "loss.backward()"
   ]
  },
  {
   "cell_type": "code",
   "execution_count": 40,
   "id": "forbidden-audio",
   "metadata": {},
   "outputs": [
    {
     "data": {
      "text/plain": [
       "tensor([[-0.4579],\n",
       "        [-0.1775],\n",
       "        [-0.8125],\n",
       "        [-0.6393],\n",
       "        [-0.3102],\n",
       "        [-0.4309],\n",
       "        [-0.0282],\n",
       "        [-0.6939],\n",
       "        [-0.8724],\n",
       "        [-0.0959]])"
      ]
     },
     "execution_count": 40,
     "metadata": {},
     "output_type": "execute_result"
    }
   ],
   "source": [
    "B.grad"
   ]
  },
  {
   "cell_type": "code",
   "execution_count": 41,
   "id": "resident-insulation",
   "metadata": {},
   "outputs": [],
   "source": [
    "with torch.no_grad():\n",
    "    B = B - 0.001 * B.grad.data"
   ]
  },
  {
   "cell_type": "code",
   "execution_count": 42,
   "id": "naked-consensus",
   "metadata": {},
   "outputs": [
    {
     "data": {
      "text/plain": [
       "tensor([[-1.1582],\n",
       "        [-1.2728],\n",
       "        [ 0.3573],\n",
       "        [-0.6045],\n",
       "        [-2.2557],\n",
       "        [-0.2493],\n",
       "        [ 0.2163],\n",
       "        [-1.3362],\n",
       "        [ 0.1683],\n",
       "        [-0.3334]])"
      ]
     },
     "execution_count": 42,
     "metadata": {},
     "output_type": "execute_result"
    }
   ],
   "source": [
    "B"
   ]
  },
  {
   "cell_type": "code",
   "execution_count": null,
   "id": "documentary-thought",
   "metadata": {},
   "outputs": [],
   "source": []
  }
 ],
 "metadata": {
  "kernelspec": {
   "display_name": "Python 3",
   "language": "python",
   "name": "python3"
  },
  "language_info": {
   "codemirror_mode": {
    "name": "ipython",
    "version": 3
   },
   "file_extension": ".py",
   "mimetype": "text/x-python",
   "name": "python",
   "nbconvert_exporter": "python",
   "pygments_lexer": "ipython3",
   "version": "3.8.5"
  }
 },
 "nbformat": 4,
 "nbformat_minor": 5
}
