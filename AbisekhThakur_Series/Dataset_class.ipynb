{
 "cells": [
  {
   "cell_type": "code",
   "execution_count": 1,
   "id": "ready-video",
   "metadata": {},
   "outputs": [],
   "source": [
    "import torch\n",
    "from sklearn.datasets import make_classification"
   ]
  },
  {
   "cell_type": "code",
   "execution_count": 2,
   "id": "identified-track",
   "metadata": {},
   "outputs": [],
   "source": [
    "class customDataset:\n",
    "    \n",
    "    def __init__(self,data,targets):\n",
    "        self.data = data\n",
    "        self.targets = targets\n",
    "        \n",
    "\n",
    "    def __len__(self):\n",
    "        return len(self.data)\n",
    "    \n",
    "    def __getitem__(self,idx):\n",
    "        current_sample = self.data[idx,:] \n",
    "        current_target = self.targets[idx]\n",
    "        \n",
    "        return{\n",
    "            \"sample\" : torch.tensor(current_sample, dtype = torch.float),\n",
    "            \"target\" : torch.tensor(current_target, dtype= torch.long)\n",
    "        }"
   ]
  },
  {
   "cell_type": "code",
   "execution_count": 3,
   "id": "received-flush",
   "metadata": {},
   "outputs": [],
   "source": [
    "data, targets = make_classification(n_samples=1000)"
   ]
  },
  {
   "cell_type": "code",
   "execution_count": 4,
   "id": "fewer-childhood",
   "metadata": {},
   "outputs": [
    {
     "data": {
      "text/plain": [
       "array([[ 0.19410945,  1.58553928, -0.33260821, ...,  0.55649025,\n",
       "         0.48403348,  1.45094938],\n",
       "       [ 0.74487067, -0.66327616,  2.59217044, ..., -0.53029039,\n",
       "        -0.02782838,  0.99599017],\n",
       "       [ 0.47045415,  1.25930916,  0.02608818, ..., -1.47606988,\n",
       "         0.25103475, -0.35746593],\n",
       "       ...,\n",
       "       [ 1.90174299, -1.99209987,  0.75193056, ...,  0.56374291,\n",
       "        -0.25880581, -1.5537783 ],\n",
       "       [-0.77433924, -0.45064758,  0.59821678, ...,  0.6289681 ,\n",
       "         0.37938248,  0.23312274],\n",
       "       [-0.10923057,  0.94776819,  0.15543961, ..., -0.0666886 ,\n",
       "        -1.70133031,  2.11693973]])"
      ]
     },
     "execution_count": 4,
     "metadata": {},
     "output_type": "execute_result"
    }
   ],
   "source": [
    "data"
   ]
  },
  {
   "cell_type": "code",
   "execution_count": 5,
   "id": "colored-wyoming",
   "metadata": {},
   "outputs": [
    {
     "data": {
      "text/plain": [
       "(1000, 20)"
      ]
     },
     "execution_count": 5,
     "metadata": {},
     "output_type": "execute_result"
    }
   ],
   "source": [
    "data.shape"
   ]
  },
  {
   "cell_type": "code",
   "execution_count": 6,
   "id": "catholic-buyer",
   "metadata": {},
   "outputs": [
    {
     "data": {
      "text/plain": [
       "(1000,)"
      ]
     },
     "execution_count": 6,
     "metadata": {},
     "output_type": "execute_result"
    }
   ],
   "source": [
    "targets.shape"
   ]
  },
  {
   "cell_type": "code",
   "execution_count": 7,
   "id": "therapeutic-warrant",
   "metadata": {},
   "outputs": [],
   "source": [
    "custom_datasets = customDataset(data=data, targets =targets)"
   ]
  },
  {
   "cell_type": "code",
   "execution_count": 8,
   "id": "potential-russian",
   "metadata": {},
   "outputs": [
    {
     "data": {
      "text/plain": [
       "1000"
      ]
     },
     "execution_count": 8,
     "metadata": {},
     "output_type": "execute_result"
    }
   ],
   "source": [
    "len(custom_datasets)"
   ]
  },
  {
   "cell_type": "code",
   "execution_count": 9,
   "id": "hollywood-oxide",
   "metadata": {},
   "outputs": [
    {
     "data": {
      "text/plain": [
       "{'sample': tensor([ 0.7449, -0.6633,  2.5922,  0.2471, -0.0481, -0.2052,  1.5601, -0.1556,\n",
       "         -0.0721,  0.1637,  0.3841, -0.0501, -0.9452, -0.9131,  0.4965,  0.4046,\n",
       "         -0.8947, -0.5303, -0.0278,  0.9960]),\n",
       " 'target': tensor(0)}"
      ]
     },
     "execution_count": 9,
     "metadata": {},
     "output_type": "execute_result"
    }
   ],
   "source": [
    "custom_datasets[1]"
   ]
  },
  {
   "cell_type": "code",
   "execution_count": 10,
   "id": "contained-discussion",
   "metadata": {},
   "outputs": [
    {
     "data": {
      "text/plain": [
       "tensor([ 0.1941,  1.5855, -0.3326, -0.2482,  0.2029,  0.6847, -0.3772, -1.1954,\n",
       "         0.7017, -0.0602,  1.6193,  0.1081, -0.8075, -0.8214,  0.9484, -0.2533,\n",
       "         1.3324,  0.5565,  0.4840,  1.4509])"
      ]
     },
     "execution_count": 10,
     "metadata": {},
     "output_type": "execute_result"
    }
   ],
   "source": [
    "custom_datasets[0][\"sample\"]"
   ]
  },
  {
   "cell_type": "code",
   "execution_count": 13,
   "id": "unique-crime",
   "metadata": {},
   "outputs": [
    {
     "data": {
      "text/plain": [
       "tensor(0)"
      ]
     },
     "execution_count": 13,
     "metadata": {},
     "output_type": "execute_result"
    }
   ],
   "source": [
    "custom_datasets[1][\"target\"]"
   ]
  },
  {
   "cell_type": "code",
   "execution_count": 48,
   "id": "metallic-period",
   "metadata": {},
   "outputs": [
    {
     "name": "stdout",
     "output_type": "stream",
     "text": [
      "{'sample': tensor([ 0.5323,  0.2434, -1.0012, -0.5483, -0.0314,  1.1777,  0.6604, -0.1220,\n",
      "        -1.2895,  0.4887, -0.2696,  0.8584,  0.2015,  1.1719,  1.2856, -0.9378,\n",
      "         0.5743,  1.1815, -0.4977, -0.0936], dtype=torch.float64), 'target': tensor(1)}\n"
     ]
    }
   ],
   "source": [
    "for idx in range(len(custom_datasets)):\n",
    "    print(custom_datasets[idx])\n",
    "    break "
   ]
  },
  {
   "cell_type": "code",
   "execution_count": null,
   "id": "lovely-election",
   "metadata": {},
   "outputs": [],
   "source": []
  }
 ],
 "metadata": {
  "kernelspec": {
   "display_name": "Python 3",
   "language": "python",
   "name": "python3"
  },
  "language_info": {
   "codemirror_mode": {
    "name": "ipython",
    "version": 3
   },
   "file_extension": ".py",
   "mimetype": "text/x-python",
   "name": "python",
   "nbconvert_exporter": "python",
   "pygments_lexer": "ipython3",
   "version": "3.8.5"
  }
 },
 "nbformat": 4,
 "nbformat_minor": 5
}
