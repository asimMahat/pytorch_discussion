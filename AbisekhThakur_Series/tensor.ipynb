{
 "cells": [
  {
   "cell_type": "code",
   "execution_count": 16,
   "id": "written-width",
   "metadata": {},
   "outputs": [],
   "source": [
    "import torch\n",
    "import numpy as np"
   ]
  },
  {
   "cell_type": "code",
   "execution_count": 17,
   "id": "hired-developer",
   "metadata": {},
   "outputs": [
    {
     "data": {
      "text/plain": [
       "False"
      ]
     },
     "execution_count": 17,
     "metadata": {},
     "output_type": "execute_result"
    }
   ],
   "source": [
    "torch.cuda.is_available()"
   ]
  },
  {
   "cell_type": "code",
   "execution_count": 18,
   "id": "apart-suspect",
   "metadata": {},
   "outputs": [
    {
     "name": "stdout",
     "output_type": "stream",
     "text": [
      "zsh:1: command not found: nvidia-smi\n"
     ]
    }
   ],
   "source": [
    "!nvidia-smi"
   ]
  },
  {
   "cell_type": "code",
   "execution_count": 19,
   "id": "dried-absolute",
   "metadata": {},
   "outputs": [],
   "source": [
    "some_data = [[1,2],[3,4]]\n"
   ]
  },
  {
   "cell_type": "code",
   "execution_count": 20,
   "id": "understood-intelligence",
   "metadata": {},
   "outputs": [
    {
     "data": {
      "text/plain": [
       "[[1, 2], [3, 4]]"
      ]
     },
     "execution_count": 20,
     "metadata": {},
     "output_type": "execute_result"
    }
   ],
   "source": [
    "some_data"
   ]
  },
  {
   "cell_type": "code",
   "execution_count": 21,
   "id": "liberal-warehouse",
   "metadata": {},
   "outputs": [
    {
     "data": {
      "text/plain": [
       "list"
      ]
     },
     "execution_count": 21,
     "metadata": {},
     "output_type": "execute_result"
    }
   ],
   "source": [
    "type(some_data)"
   ]
  },
  {
   "cell_type": "code",
   "execution_count": 22,
   "id": "urban-holocaust",
   "metadata": {},
   "outputs": [],
   "source": [
    "#coverting list of list into tensor\n",
    "some_data = torch.tensor(some_data)"
   ]
  },
  {
   "cell_type": "code",
   "execution_count": 23,
   "id": "imposed-irish",
   "metadata": {},
   "outputs": [],
   "source": [
    "# np.array(some_data)"
   ]
  },
  {
   "cell_type": "code",
   "execution_count": 24,
   "id": "rubber-campaign",
   "metadata": {},
   "outputs": [
    {
     "data": {
      "text/plain": [
       "tensor([[1, 2],\n",
       "        [3, 4]])"
      ]
     },
     "execution_count": 24,
     "metadata": {},
     "output_type": "execute_result"
    }
   ],
   "source": [
    "some_data"
   ]
  },
  {
   "cell_type": "code",
   "execution_count": 25,
   "id": "judicial-wednesday",
   "metadata": {},
   "outputs": [],
   "source": [
    "numpy_array = np.random.rand(3,4)"
   ]
  },
  {
   "cell_type": "code",
   "execution_count": 26,
   "id": "light-following",
   "metadata": {},
   "outputs": [
    {
     "data": {
      "text/plain": [
       "array([[0.5282979 , 0.93062419, 0.50792936, 0.39392472],\n",
       "       [0.58015579, 0.90069821, 0.7269036 , 0.11577991],\n",
       "       [0.24524528, 0.23628559, 0.673531  , 0.66392994]])"
      ]
     },
     "execution_count": 26,
     "metadata": {},
     "output_type": "execute_result"
    }
   ],
   "source": [
    "numpy_array"
   ]
  },
  {
   "cell_type": "code",
   "execution_count": 27,
   "id": "muslim-cradle",
   "metadata": {},
   "outputs": [
    {
     "data": {
      "text/plain": [
       "tensor([[0.5283, 0.9306, 0.5079, 0.3939],\n",
       "        [0.5802, 0.9007, 0.7269, 0.1158],\n",
       "        [0.2452, 0.2363, 0.6735, 0.6639]], dtype=torch.float64)"
      ]
     },
     "execution_count": 27,
     "metadata": {},
     "output_type": "execute_result"
    }
   ],
   "source": [
    "#coverting into tensor\n",
    "\n",
    "tensor_A = torch.from_numpy(numpy_array)\n",
    "tensor_A"
   ]
  },
  {
   "cell_type": "code",
   "execution_count": 30,
   "id": "indoor-michigan",
   "metadata": {},
   "outputs": [
    {
     "data": {
      "text/plain": [
       "tensor([[0.5717, 0.5767, 0.5113, 0.6353],\n",
       "        [0.3575, 0.7979, 0.5924, 0.1440],\n",
       "        [0.2789, 0.2395, 0.5724, 0.2735]])"
      ]
     },
     "execution_count": 30,
     "metadata": {},
     "output_type": "execute_result"
    }
   ],
   "source": [
    "tensor_B = torch.rand(3,4)\n",
    "tensor_B"
   ]
  },
  {
   "cell_type": "code",
   "execution_count": 31,
   "id": "dutch-enzyme",
   "metadata": {},
   "outputs": [
    {
     "data": {
      "text/plain": [
       "device(type='cpu')"
      ]
     },
     "execution_count": 31,
     "metadata": {},
     "output_type": "execute_result"
    }
   ],
   "source": [
    "tensor_B.device"
   ]
  },
  {
   "cell_type": "code",
   "execution_count": 34,
   "id": "chief-escape",
   "metadata": {},
   "outputs": [
    {
     "data": {
      "text/plain": [
       "torch.float32"
      ]
     },
     "execution_count": 34,
     "metadata": {},
     "output_type": "execute_result"
    }
   ],
   "source": [
    "tensor_B.dtype"
   ]
  },
  {
   "cell_type": "code",
   "execution_count": 35,
   "id": "laughing-engine",
   "metadata": {},
   "outputs": [
    {
     "data": {
      "text/plain": [
       "tensor([[0.3268, 0.3326, 0.2615, 0.4036],\n",
       "        [0.1278, 0.6367, 0.3509, 0.0207],\n",
       "        [0.0778, 0.0574, 0.3276, 0.0748]])"
      ]
     },
     "execution_count": 35,
     "metadata": {},
     "output_type": "execute_result"
    }
   ],
   "source": [
    "tensor_B.mul(tensor_B)"
   ]
  },
  {
   "cell_type": "code",
   "execution_count": 36,
   "id": "rolled-conversation",
   "metadata": {},
   "outputs": [
    {
     "data": {
      "text/plain": [
       "tensor([[1.3244, 1.0589, 0.7640],\n",
       "        [1.0589, 1.1361, 0.6693],\n",
       "        [0.7640, 0.6693, 0.5376]])"
      ]
     },
     "execution_count": 36,
     "metadata": {},
     "output_type": "execute_result"
    }
   ],
   "source": [
    "tensor_B.matmul(tensor_B.T)"
   ]
  },
  {
   "cell_type": "code",
   "execution_count": 43,
   "id": "different-faculty",
   "metadata": {},
   "outputs": [],
   "source": [
    "tensor_C = torch.matmul(tensor_B, tensor_B.T)"
   ]
  },
  {
   "cell_type": "code",
   "execution_count": 45,
   "id": "nearby-shift",
   "metadata": {},
   "outputs": [
    {
     "data": {
      "text/plain": [
       "tensor([[0.4277, 0.3280, 0.2442],\n",
       "        [0.3626, 0.3917, 0.2456],\n",
       "        [0.3694, 0.3360, 0.2946]])"
      ]
     },
     "execution_count": 45,
     "metadata": {},
     "output_type": "execute_result"
    }
   ],
   "source": [
    "# dim-1 is for columns, dim-0 is for rows\n",
    "torch.nn.functional.softmax(tensor_C, dim = 1)\n"
   ]
  },
  {
   "cell_type": "code",
   "execution_count": 46,
   "id": "personalized-blank",
   "metadata": {},
   "outputs": [
    {
     "data": {
      "text/plain": [
       "torch.Size([3, 3])"
      ]
     },
     "execution_count": 46,
     "metadata": {},
     "output_type": "execute_result"
    }
   ],
   "source": [
    "tensor_C.shape"
   ]
  },
  {
   "cell_type": "code",
   "execution_count": 48,
   "id": "processed-planning",
   "metadata": {},
   "outputs": [
    {
     "data": {
      "text/plain": [
       "torch.Size([3, 3])"
      ]
     },
     "execution_count": 48,
     "metadata": {},
     "output_type": "execute_result"
    }
   ],
   "source": [
    "tensor_C.size()"
   ]
  },
  {
   "cell_type": "code",
   "execution_count": 49,
   "id": "hired-drink",
   "metadata": {},
   "outputs": [],
   "source": [
    "# for computer vision problems\n",
    "tensor_D = torch.rand(10,3,128,128)"
   ]
  },
  {
   "cell_type": "code",
   "execution_count": 50,
   "id": "continuous-flexibility",
   "metadata": {},
   "outputs": [
    {
     "data": {
      "text/plain": [
       "tensor([[[[0.8333, 0.7037, 0.0574,  ..., 0.5805, 0.3776, 0.0051],\n",
       "          [0.5498, 0.9137, 0.8333,  ..., 0.3492, 0.1977, 0.1417],\n",
       "          [0.9618, 0.8842, 0.6202,  ..., 0.3881, 0.8796, 0.6581],\n",
       "          ...,\n",
       "          [0.5232, 0.0139, 0.9092,  ..., 0.0686, 0.5123, 0.7870],\n",
       "          [0.8830, 0.6362, 0.7725,  ..., 0.6268, 0.8198, 0.3247],\n",
       "          [0.6595, 0.3979, 0.1892,  ..., 0.0944, 0.0869, 0.2845]],\n",
       "\n",
       "         [[0.0870, 0.3255, 0.0748,  ..., 0.3172, 0.0460, 0.4137],\n",
       "          [0.8153, 0.4217, 0.9369,  ..., 0.2963, 0.9958, 0.2451],\n",
       "          [0.9595, 0.0122, 0.6781,  ..., 0.4408, 0.2939, 0.0654],\n",
       "          ...,\n",
       "          [0.0040, 0.0289, 0.2070,  ..., 0.8799, 0.4165, 0.0182],\n",
       "          [0.6777, 0.0095, 0.3441,  ..., 0.4631, 0.3054, 0.3918],\n",
       "          [0.3723, 0.9246, 0.6746,  ..., 0.2190, 0.7628, 0.0227]],\n",
       "\n",
       "         [[0.0581, 0.8921, 0.2448,  ..., 0.2416, 0.2546, 0.1752],\n",
       "          [0.4166, 0.2324, 0.6415,  ..., 0.0699, 0.4999, 0.3556],\n",
       "          [0.3117, 0.7207, 0.0028,  ..., 0.8795, 0.2822, 0.1774],\n",
       "          ...,\n",
       "          [0.8749, 0.1595, 0.2808,  ..., 0.8227, 0.0024, 0.1302],\n",
       "          [0.5519, 0.7979, 0.7812,  ..., 0.5627, 0.8220, 0.5182],\n",
       "          [0.2874, 0.9807, 0.4095,  ..., 0.6786, 0.7947, 0.3413]]],\n",
       "\n",
       "\n",
       "        [[[0.5593, 0.9188, 0.2327,  ..., 0.8143, 0.8625, 0.5060],\n",
       "          [0.7286, 0.0799, 0.7700,  ..., 0.1642, 0.9038, 0.9014],\n",
       "          [0.5465, 0.5203, 0.1246,  ..., 0.0544, 0.2735, 0.5621],\n",
       "          ...,\n",
       "          [0.2690, 0.6563, 0.9598,  ..., 0.1871, 0.0122, 0.2079],\n",
       "          [0.5997, 0.3621, 0.1457,  ..., 0.2364, 0.0491, 0.4684],\n",
       "          [0.3235, 0.3587, 0.3215,  ..., 0.7631, 0.7774, 0.7232]],\n",
       "\n",
       "         [[0.9831, 0.2449, 0.2557,  ..., 0.7986, 0.9463, 0.1916],\n",
       "          [0.6216, 0.4424, 0.3402,  ..., 0.2904, 0.7508, 0.1641],\n",
       "          [0.5972, 0.7483, 0.6804,  ..., 0.9843, 0.7719, 0.8689],\n",
       "          ...,\n",
       "          [0.0293, 0.5816, 0.7403,  ..., 0.8341, 0.9821, 0.9446],\n",
       "          [0.5552, 0.0391, 0.2877,  ..., 0.9965, 0.4661, 0.9232],\n",
       "          [0.0372, 0.6004, 0.6448,  ..., 0.8242, 0.9435, 0.8349]],\n",
       "\n",
       "         [[0.3552, 0.2105, 0.3127,  ..., 0.0705, 0.0311, 0.8515],\n",
       "          [0.2701, 0.7694, 0.7341,  ..., 0.9710, 0.8883, 0.2925],\n",
       "          [0.6022, 0.7327, 0.9064,  ..., 0.7158, 0.9619, 0.7672],\n",
       "          ...,\n",
       "          [0.9873, 0.0242, 0.8277,  ..., 0.0034, 0.9513, 0.2858],\n",
       "          [0.0547, 0.9355, 0.8043,  ..., 0.4011, 0.6255, 0.9029],\n",
       "          [0.6775, 0.0994, 0.8164,  ..., 0.8957, 0.9627, 0.4669]]],\n",
       "\n",
       "\n",
       "        [[[0.6422, 0.5651, 0.3109,  ..., 0.7652, 0.9534, 0.6844],\n",
       "          [0.0988, 0.0542, 0.9180,  ..., 0.3691, 0.3093, 0.2148],\n",
       "          [0.5317, 0.1883, 0.1158,  ..., 0.4694, 0.8069, 0.3247],\n",
       "          ...,\n",
       "          [0.2699, 0.1588, 0.9970,  ..., 0.3918, 0.7391, 0.7853],\n",
       "          [0.6571, 0.5290, 0.0845,  ..., 0.3534, 0.4292, 0.5816],\n",
       "          [0.5396, 0.4294, 0.3796,  ..., 0.4859, 0.8735, 0.3722]],\n",
       "\n",
       "         [[0.4778, 0.8516, 0.1146,  ..., 0.5279, 0.8199, 0.9784],\n",
       "          [0.8266, 0.2501, 0.8222,  ..., 0.0821, 0.8670, 0.2675],\n",
       "          [0.0326, 0.1903, 0.7203,  ..., 0.3678, 0.4946, 0.4291],\n",
       "          ...,\n",
       "          [0.6396, 0.3510, 0.9082,  ..., 0.3953, 0.1526, 0.4631],\n",
       "          [0.0239, 0.4709, 0.3843,  ..., 0.4802, 0.5493, 0.4121],\n",
       "          [0.4705, 0.9879, 0.6482,  ..., 0.4017, 0.4343, 0.5957]],\n",
       "\n",
       "         [[0.2073, 0.2082, 0.0211,  ..., 0.4302, 0.1246, 0.5957],\n",
       "          [0.8046, 0.6502, 0.1585,  ..., 0.6052, 0.8777, 0.0805],\n",
       "          [0.4300, 0.0520, 0.3505,  ..., 0.8081, 0.0161, 0.9794],\n",
       "          ...,\n",
       "          [0.7322, 0.7293, 0.2311,  ..., 0.1464, 0.9287, 0.0773],\n",
       "          [0.9894, 0.5160, 0.6247,  ..., 0.8392, 0.9181, 0.4354],\n",
       "          [0.8577, 0.7515, 0.0958,  ..., 0.5518, 0.9616, 0.5523]]],\n",
       "\n",
       "\n",
       "        ...,\n",
       "\n",
       "\n",
       "        [[[0.1058, 0.3723, 0.5112,  ..., 0.1221, 0.7752, 0.5872],\n",
       "          [0.7837, 0.3083, 0.0573,  ..., 0.9940, 0.5583, 0.0379],\n",
       "          [0.9002, 0.0684, 0.5346,  ..., 0.4102, 0.3211, 0.6168],\n",
       "          ...,\n",
       "          [0.4387, 0.2730, 0.1629,  ..., 0.8545, 0.9372, 0.5016],\n",
       "          [0.8837, 0.1698, 0.0389,  ..., 0.5579, 0.3710, 0.1008],\n",
       "          [0.4116, 0.3637, 0.0561,  ..., 0.7795, 0.4677, 0.2096]],\n",
       "\n",
       "         [[0.5807, 0.8835, 0.5802,  ..., 0.3863, 0.8268, 0.3942],\n",
       "          [0.6874, 0.8695, 0.7807,  ..., 0.8949, 0.7309, 0.1008],\n",
       "          [0.9979, 0.9758, 0.6911,  ..., 0.1445, 0.8637, 0.9947],\n",
       "          ...,\n",
       "          [0.3877, 0.4265, 0.8154,  ..., 0.3606, 0.7270, 0.6181],\n",
       "          [0.7421, 0.5566, 0.5143,  ..., 0.7903, 0.1528, 0.9383],\n",
       "          [0.3485, 0.1496, 0.6818,  ..., 0.9513, 0.4806, 0.4670]],\n",
       "\n",
       "         [[0.7707, 0.5458, 0.6531,  ..., 0.4648, 0.8256, 0.1756],\n",
       "          [0.8307, 0.8495, 0.2718,  ..., 0.4044, 0.7185, 0.3572],\n",
       "          [0.5078, 0.6597, 0.9526,  ..., 0.6907, 0.7559, 0.5030],\n",
       "          ...,\n",
       "          [0.3188, 0.2742, 0.9279,  ..., 0.0961, 0.1647, 0.7343],\n",
       "          [0.2023, 0.0384, 0.5717,  ..., 0.0324, 0.2477, 0.6117],\n",
       "          [0.5893, 0.4250, 0.0402,  ..., 0.7817, 0.4328, 0.0721]]],\n",
       "\n",
       "\n",
       "        [[[0.8484, 0.6056, 0.5182,  ..., 0.0085, 0.8565, 0.9550],\n",
       "          [0.5906, 0.3707, 0.7230,  ..., 0.3660, 0.1636, 0.5567],\n",
       "          [0.9417, 0.9115, 0.2898,  ..., 0.0905, 0.4218, 0.6621],\n",
       "          ...,\n",
       "          [0.2992, 0.6691, 0.0998,  ..., 0.7484, 0.9852, 0.3629],\n",
       "          [0.6564, 0.0774, 0.2930,  ..., 0.1559, 0.2276, 0.5019],\n",
       "          [0.3547, 0.8717, 0.1326,  ..., 0.3979, 0.3363, 0.7314]],\n",
       "\n",
       "         [[0.0951, 0.8260, 0.1599,  ..., 0.6930, 0.6260, 0.9005],\n",
       "          [0.0912, 0.6445, 0.5749,  ..., 0.6899, 0.9953, 0.8315],\n",
       "          [0.9975, 0.5358, 0.8827,  ..., 0.2095, 0.5401, 0.7349],\n",
       "          ...,\n",
       "          [0.7621, 0.2932, 0.0874,  ..., 0.1619, 0.2196, 0.8386],\n",
       "          [0.8613, 0.6729, 0.7322,  ..., 0.6106, 0.1514, 0.4056],\n",
       "          [0.1993, 0.5538, 0.7852,  ..., 0.2173, 0.9299, 0.9289]],\n",
       "\n",
       "         [[0.3432, 0.5415, 0.9754,  ..., 0.3665, 0.9782, 0.9486],\n",
       "          [0.7713, 0.0034, 0.8574,  ..., 0.0680, 0.4831, 0.3626],\n",
       "          [0.6443, 0.3317, 0.0744,  ..., 0.4690, 0.5065, 0.1875],\n",
       "          ...,\n",
       "          [0.9445, 0.6032, 0.3523,  ..., 0.0205, 0.5214, 0.4706],\n",
       "          [0.9940, 0.4204, 0.8919,  ..., 0.3354, 0.6040, 0.8162],\n",
       "          [0.9078, 0.6335, 0.2570,  ..., 0.6830, 0.0237, 0.9551]]],\n",
       "\n",
       "\n",
       "        [[[0.0235, 0.4011, 0.8709,  ..., 0.4232, 0.4823, 0.8207],\n",
       "          [0.6790, 0.9165, 0.0509,  ..., 0.8136, 0.8399, 0.0144],\n",
       "          [0.6110, 0.8099, 0.6287,  ..., 0.0735, 0.1893, 0.5316],\n",
       "          ...,\n",
       "          [0.2471, 0.9774, 0.0964,  ..., 0.1697, 0.8991, 0.1919],\n",
       "          [0.0741, 0.5800, 0.0019,  ..., 0.2154, 0.6636, 0.0927],\n",
       "          [0.3455, 0.8188, 0.4620,  ..., 0.7144, 0.0475, 0.9483]],\n",
       "\n",
       "         [[0.8235, 0.3069, 0.6298,  ..., 0.4000, 0.1582, 0.9173],\n",
       "          [0.9777, 0.4642, 0.5353,  ..., 0.6770, 0.0968, 0.3958],\n",
       "          [0.9381, 0.5498, 0.8455,  ..., 0.3901, 0.0284, 0.1372],\n",
       "          ...,\n",
       "          [0.3774, 0.3275, 0.5629,  ..., 0.3619, 0.5725, 0.5816],\n",
       "          [0.0868, 0.2774, 0.1683,  ..., 0.2936, 0.3208, 0.3648],\n",
       "          [0.9329, 0.3176, 0.8937,  ..., 0.5334, 0.2675, 0.5570]],\n",
       "\n",
       "         [[0.5840, 0.4466, 0.8055,  ..., 0.3136, 0.5110, 0.7084],\n",
       "          [0.4638, 0.8773, 0.7449,  ..., 0.7966, 0.5755, 0.8420],\n",
       "          [0.3496, 0.3735, 0.8329,  ..., 0.9615, 0.0052, 0.1291],\n",
       "          ...,\n",
       "          [0.0057, 0.0694, 0.6008,  ..., 0.8232, 0.7694, 0.4888],\n",
       "          [0.6431, 0.9470, 0.2168,  ..., 0.9980, 0.8001, 0.2183],\n",
       "          [0.4570, 0.1860, 0.2575,  ..., 0.0739, 0.0781, 0.7973]]]])"
      ]
     },
     "execution_count": 50,
     "metadata": {},
     "output_type": "execute_result"
    }
   ],
   "source": [
    "tensor_D"
   ]
  },
  {
   "cell_type": "code",
   "execution_count": 51,
   "id": "knowing-stability",
   "metadata": {},
   "outputs": [
    {
     "data": {
      "text/plain": [
       "tensor([[0.9000, 0.9000, 0.7640],\n",
       "        [0.9000, 0.9000, 0.6693],\n",
       "        [0.7640, 0.6693, 0.5376]])"
      ]
     },
     "execution_count": 51,
     "metadata": {},
     "output_type": "execute_result"
    }
   ],
   "source": [
    "tensor_C.clip(0.1,0.9)"
   ]
  },
  {
   "cell_type": "code",
   "execution_count": 52,
   "id": "backed-jonathan",
   "metadata": {},
   "outputs": [
    {
     "data": {
      "text/plain": [
       "array([[1.3243911 , 1.0589218 , 0.76398444],\n",
       "       [1.0589218 , 1.1361406 , 0.66927147],\n",
       "       [0.76398444, 0.66927147, 0.5375716 ]], dtype=float32)"
      ]
     },
     "execution_count": 52,
     "metadata": {},
     "output_type": "execute_result"
    }
   ],
   "source": [
    "# coverting the tensor into numpy_array\n",
    "tensor_C.cpu().detach().numpy()"
   ]
  },
  {
   "cell_type": "code",
   "execution_count": null,
   "id": "amateur-master",
   "metadata": {},
   "outputs": [],
   "source": []
  }
 ],
 "metadata": {
  "kernelspec": {
   "display_name": "Python 3",
   "language": "python",
   "name": "python3"
  },
  "language_info": {
   "codemirror_mode": {
    "name": "ipython",
    "version": 3
   },
   "file_extension": ".py",
   "mimetype": "text/x-python",
   "name": "python",
   "nbconvert_exporter": "python",
   "pygments_lexer": "ipython3",
   "version": "3.8.5"
  }
 },
 "nbformat": 4,
 "nbformat_minor": 5
}
