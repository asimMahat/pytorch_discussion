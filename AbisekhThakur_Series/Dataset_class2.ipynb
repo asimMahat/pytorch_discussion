{
 "cells": [
  {
   "cell_type": "code",
   "execution_count": 1,
   "id": "authorized-grade",
   "metadata": {},
   "outputs": [],
   "source": [
    "from torch.utils.data import Dataset\n",
    "from sklearn.datasets import make_classification"
   ]
  },
  {
   "cell_type": "code",
   "execution_count": 4,
   "id": "normal-steps",
   "metadata": {},
   "outputs": [
    {
     "name": "stdout",
     "output_type": "stream",
     "text": [
      "1000\n",
      "101\n",
      "[123, 124, 125, 126, 127, 128, 129, 130, 131, 132, 133, 134, 135, 136, 137, 138, 139, 140, 141, 142, 143, 144, 145, 146, 147, 148, 149, 150, 151, 152, 153, 154, 155, 156, 157, 158, 159, 160, 161, 162, 163, 164, 165, 166, 167, 168, 169, 170, 171, 172, 173, 174, 175, 176, 177, 178, 179, 180, 181, 182, 183, 184, 185, 186, 187, 188, 189, 190, 191, 192, 193, 194, 195, 196, 197, 198, 199, 200, 201, 202, 203, 204, 205, 206, 207, 208, 209, 210, 211, 212, 213, 214, 215, 216, 217, 218, 219, 220, 221, 222, 223, 224, 225, 226, 227, 228, 229, 230, 231, 232, 233, 234, 235, 236, 237, 238, 239, 240, 241, 242, 243, 244, 245, 246, 247, 248, 249, 250, 251, 252, 253, 254, 255, 256, 257, 258, 259, 260, 261, 262, 263, 264, 265, 266, 267, 268, 269, 270, 271, 272, 273, 274, 275, 276, 277, 278, 279, 280, 281, 282, 283, 284, 285, 286, 287, 288, 289, 290, 291, 292, 293, 294, 295, 296, 297, 298, 299, 300, 301, 302, 303, 304, 305, 306, 307, 308, 309, 310, 311, 312, 313, 314, 315, 316, 317, 318, 319, 320, 321, 322, 323, 324, 325, 326, 327, 328, 329, 330, 331, 332, 333, 334, 335, 336, 337, 338, 339, 340, 341, 342, 343, 344, 345, 346, 347, 348, 349, 350, 351, 352, 353, 354, 355, 356, 357, 358, 359, 360, 361]\n"
     ]
    }
   ],
   "source": [
    "class NumbersDataset(Dataset):\n",
    "    def __init__(self):\n",
    "        self.samples = list(range(1,1001))\n",
    "    \n",
    "    def __len__(self):\n",
    "        return len(self.samples)\n",
    "    \n",
    "    def __getitem__(self,idx):\n",
    "        return self.samples[idx]\n",
    "    \n",
    "if __name__ == \"__main__\":\n",
    "    dataset = NumbersDataset()\n",
    "    print(len(dataset))\n",
    "    print(dataset[100])\n",
    "    print(dataset[122:361])\n",
    "    \n",
    "    "
   ]
  },
  {
   "cell_type": "code",
   "execution_count": 21,
   "id": "patent-produce",
   "metadata": {},
   "outputs": [],
   "source": [
    "import torch\n",
    "from sklearn.datasets import make_classification"
   ]
  },
  {
   "cell_type": "code",
   "execution_count": 22,
   "id": "alone-mixer",
   "metadata": {},
   "outputs": [],
   "source": [
    "class NumbersDataset:\n",
    "    def __init__(self,x,y):\n",
    "        self.x = x\n",
    "        self.y = y\n",
    "    \n",
    "    def __len__(self):\n",
    "        return len(self.x)\n",
    "    \n",
    "    def __getitem__(self,idx):\n",
    "        current_x = self.x[idx,:]\n",
    "        current_y = self.y[idx]\n",
    "        \n",
    "        return  {\n",
    "            \n",
    "            \"x\" : torch.tensor(current_x, dtype = torch.float),\n",
    "            \"y\" : torch.tensor(current_y, dtype = torch.long)\n",
    "        }\n",
    "    \n",
    " "
   ]
  },
  {
   "cell_type": "code",
   "execution_count": 23,
   "id": "difficult-likelihood",
   "metadata": {},
   "outputs": [],
   "source": [
    "x,y = make_classification(n_samples=1000)"
   ]
  },
  {
   "cell_type": "code",
   "execution_count": 24,
   "id": "stable-proposition",
   "metadata": {},
   "outputs": [
    {
     "data": {
      "text/plain": [
       "(1000, 20)"
      ]
     },
     "execution_count": 24,
     "metadata": {},
     "output_type": "execute_result"
    }
   ],
   "source": [
    "x.shape"
   ]
  },
  {
   "cell_type": "code",
   "execution_count": 25,
   "id": "revolutionary-complaint",
   "metadata": {},
   "outputs": [
    {
     "data": {
      "text/plain": [
       "(1000,)"
      ]
     },
     "execution_count": 25,
     "metadata": {},
     "output_type": "execute_result"
    }
   ],
   "source": [
    "y.shape"
   ]
  },
  {
   "cell_type": "code",
   "execution_count": 26,
   "id": "powered-veteran",
   "metadata": {},
   "outputs": [],
   "source": [
    "number_dataset = NumbersDataset(x=x, y=y)\n"
   ]
  },
  {
   "cell_type": "code",
   "execution_count": 27,
   "id": "discrete-atlantic",
   "metadata": {},
   "outputs": [
    {
     "data": {
      "text/plain": [
       "1000"
      ]
     },
     "execution_count": 27,
     "metadata": {},
     "output_type": "execute_result"
    }
   ],
   "source": [
    "len(number_dataset)"
   ]
  },
  {
   "cell_type": "code",
   "execution_count": 28,
   "id": "southeast-password",
   "metadata": {},
   "outputs": [
    {
     "data": {
      "text/plain": [
       "{'x': tensor([-1.0647,  1.4064,  1.4720, -1.0297,  0.2532, -0.5332, -1.9447, -0.5967,\n",
       "          0.0750,  0.2219, -0.3000, -0.2004, -2.1541,  0.6741,  1.2045,  1.7140,\n",
       "         -0.2556, -0.1788,  0.6789, -0.5073]),\n",
       " 'y': tensor(0)}"
      ]
     },
     "execution_count": 28,
     "metadata": {},
     "output_type": "execute_result"
    }
   ],
   "source": [
    "number_dataset[0]"
   ]
  },
  {
   "cell_type": "code",
   "execution_count": 31,
   "id": "union-resident",
   "metadata": {},
   "outputs": [
    {
     "name": "stdout",
     "output_type": "stream",
     "text": [
      "{'x': tensor([-1.0647,  1.4064,  1.4720, -1.0297,  0.2532, -0.5332, -1.9447, -0.5967,\n",
      "         0.0750,  0.2219, -0.3000, -0.2004, -2.1541,  0.6741,  1.2045,  1.7140,\n",
      "        -0.2556, -0.1788,  0.6789, -0.5073]), 'y': tensor(0)}\n"
     ]
    }
   ],
   "source": [
    "for i in range(len(number_dataset)):\n",
    "    print(number_dataset[i])\n",
    "    break"
   ]
  },
  {
   "cell_type": "code",
   "execution_count": null,
   "id": "metropolitan-kelly",
   "metadata": {},
   "outputs": [],
   "source": []
  }
 ],
 "metadata": {
  "kernelspec": {
   "display_name": "Python 3",
   "language": "python",
   "name": "python3"
  },
  "language_info": {
   "codemirror_mode": {
    "name": "ipython",
    "version": 3
   },
   "file_extension": ".py",
   "mimetype": "text/x-python",
   "name": "python",
   "nbconvert_exporter": "python",
   "pygments_lexer": "ipython3",
   "version": "3.8.5"
  }
 },
 "nbformat": 4,
 "nbformat_minor": 5
}
